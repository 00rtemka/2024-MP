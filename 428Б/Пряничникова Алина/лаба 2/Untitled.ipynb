{
 "cells": [
  {
   "cell_type": "code",
   "execution_count": 1,
   "id": "6806a34b",
   "metadata": {},
   "outputs": [
    {
     "data": {
      "text/plain": [
       "[2, 16, 12, 9]"
      ]
     },
     "execution_count": 1,
     "metadata": {},
     "output_type": "execute_result"
    }
   ],
   "source": [
    "import random\n",
    "\n",
    "random.sample(range(1, 18), 4) # вернет список из 4 случайных значений в заданном диапазоне"
   ]
  },
  {
   "cell_type": "code",
   "execution_count": 22,
   "id": "f8ee2424",
   "metadata": {},
   "outputs": [],
   "source": [
    "import cmath"
   ]
  },
  {
   "cell_type": "markdown",
   "id": "ad5b6616",
   "metadata": {},
   "source": [
    "2.bubble sort, сортировка пузырьком;\n",
    "\n",
    "9.Heapsort, пирамидальная сортировка;\n",
    "\n",
    "12.Counting sort, сортировка подсчетом;\n",
    "\n",
    "16.most significant digit;\n"
   ]
  },
  {
   "cell_type": "code",
   "execution_count": 16,
   "id": "73279177",
   "metadata": {},
   "outputs": [],
   "source": [
    "list_of_integer = list(range(1000000))"
   ]
  },
  {
   "cell_type": "code",
   "execution_count": 17,
   "id": "be8cd4fd",
   "metadata": {},
   "outputs": [],
   "source": [
    "list_of_random_real_numbers = [random.uniform(-1, 1) for _ in range(99999)]\n"
   ]
  },
  {
   "cell_type": "code",
   "execution_count": 18,
   "id": "f57f0db2",
   "metadata": {},
   "outputs": [],
   "source": [
    "def the_radius_of_the_circle(birth_day, birth_month):\n",
    "    radius = birth_day / birth_month\n",
    "    return radius"
   ]
  },
  {
   "cell_type": "code",
   "execution_count": 24,
   "id": "9d0cbfc4",
   "metadata": {},
   "outputs": [],
   "source": [
    "def generating_complex_numbers_and_sorting (the_radius_of_the_circle, birth_day, birth_month):\n",
    "    radius = birth_day / birth_month\n",
    "\n",
    "    points = []\n",
    "    while len(points) < 42000:\n",
    "        x = random.uniform(-radius, radius)\n",
    "        y = random.uniform(-radius, radius)\n",
    "        if abs(cmath.rect(1, 0) * cmath.rect(x, y)) <= radius:\n",
    "            points.append(x + y * 1j)\n",
    "\n",
    "    points.sort(key=abs)\n",
    "    return points"
   ]
  },
  {
   "cell_type": "code",
   "execution_count": 25,
   "id": "79f311d7",
   "metadata": {},
   "outputs": [],
   "source": [
    "points_of_the_complex_plane = generating_complex_numbers_and_sorting(the_radius_of_the_circle,24, 11)"
   ]
  },
  {
   "cell_type": "code",
   "execution_count": null,
   "id": "2a9680b3",
   "metadata": {},
   "outputs": [],
   "source": []
  }
 ],
 "metadata": {
  "kernelspec": {
   "display_name": "Python 3 (ipykernel)",
   "language": "python",
   "name": "python3"
  },
  "language_info": {
   "codemirror_mode": {
    "name": "ipython",
    "version": 3
   },
   "file_extension": ".py",
   "mimetype": "text/x-python",
   "name": "python",
   "nbconvert_exporter": "python",
   "pygments_lexer": "ipython3",
   "version": "3.11.5"
  }
 },
 "nbformat": 4,
 "nbformat_minor": 5
}
